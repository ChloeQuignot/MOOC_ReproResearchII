{
 "cells": [
  {
   "cell_type": "markdown",
   "id": "1a3ba670-2554-49c3-b1d9-85b77733b148",
   "metadata": {
    "tags": []
   },
   "source": [
    "# Sunspot exploration\n",
    "Let us start by importing the sunspot number dataset from the [Bruxelles Observatory](https://www.sidc.be/silso/datafiles) rather than from [Kaggle](https://www.kaggle.com/robervalt/sunspots) like most people do. ;)\n",
    "\n",
    "The dataset we use is labelled \"Monthly mean total sunspot number [1/1749 - now]\" on the observatory Web site. We download it and store a local copy as \"sunspot.csv\", unless that file already exists from a previous run."
   ]
  },
  {
   "cell_type": "code",
   "execution_count": 1,
   "id": "3b4e6828-3ab5-4824-a6c3-14ba6fbadd2a",
   "metadata": {
    "tags": []
   },
   "outputs": [],
   "source": [
    "import pandas as pd\n",
    "import requests\n",
    "import os"
   ]
  },
  {
   "cell_type": "code",
   "execution_count": 2,
   "id": "0227e526-4eea-4458-84be-8a436c9880f6",
   "metadata": {
    "tags": []
   },
   "outputs": [],
   "source": [
    "if not os.path.exists('sunspot.csv'):\n",
    "    url = 'https://www.sidc.be/silso/INFO/snmtotcsv.php'\n",
    "    r = requests.get(url, allow_redirects=True)\n",
    "    open('sunspot.csv', 'wb').write(r.content)"
   ]
  },
  {
   "cell_type": "markdown",
   "id": "1c463843-82ed-48d2-a4a8-c63dab8c3726",
   "metadata": {
    "tags": []
   },
   "source": [
    "The dataset has no column titles, so we add them ourselves, following the [on-line documentation](https://www.sidc.be/SILSO/infosndtot) which says:\n",
    "\n",
    "Column 1-2: Gregorian calendar date (Year, Month).  \n",
    "Column 3: Date in fraction of year.  \n",
    "Column 4: Monthly mean total sunspot number.  \n",
    "Column 5: Monthly mean standard deviation of the input sunspot numbers.  \n",
    "Column 6: Number of observations used to compute the monthly mean total sunspot number.  \n",
    "Column 7: Definitive/provisional marker. '1' indicates that the value is definitive. '0' indicates that the value is still provisional.\n",
    "\n",
    "Missing values are indicated by a value of -1"
   ]
  },
  {
   "cell_type": "code",
   "execution_count": 3,
   "id": "0aa322fb-34b1-4cf4-ba67-a925868b7d1a",
   "metadata": {
    "tags": []
   },
   "outputs": [],
   "source": [
    "df = pd.read_csv('sunspot.csv', delimiter=\";\", \n",
    "                 names= [\"Year\", \"Month\", \"Year_Fraction\", \"SunspotNumber\", \"SunspotNumber_sd\",\n",
    "                         \"NumObservations\", \"Definitive?\"])\n",
    "df = df[df[\"Year\"]<2024]"
   ]
  },
  {
   "cell_type": "markdown",
   "id": "ebc2896e-a4a7-433d-b15b-5b33d21cd8d1",
   "metadata": {
    "tags": []
   },
   "source": [
    "Pandas' summary of the dataset:"
   ]
  },
  {
   "cell_type": "code",
   "execution_count": 4,
   "id": "d54fe181-6e6f-4a31-99b2-90be5b55b06b",
   "metadata": {
    "tags": []
   },
   "outputs": [
    {
     "data": {
      "text/html": [
       "<div>\n",
       "<style scoped>\n",
       "    .dataframe tbody tr th:only-of-type {\n",
       "        vertical-align: middle;\n",
       "    }\n",
       "\n",
       "    .dataframe tbody tr th {\n",
       "        vertical-align: top;\n",
       "    }\n",
       "\n",
       "    .dataframe thead th {\n",
       "        text-align: right;\n",
       "    }\n",
       "</style>\n",
       "<table border=\"1\" class=\"dataframe\">\n",
       "  <thead>\n",
       "    <tr style=\"text-align: right;\">\n",
       "      <th></th>\n",
       "      <th>Year</th>\n",
       "      <th>Month</th>\n",
       "      <th>Year_Fraction</th>\n",
       "      <th>SunspotNumber</th>\n",
       "      <th>SunspotNumber_sd</th>\n",
       "      <th>NumObservations</th>\n",
       "      <th>Definitive?</th>\n",
       "    </tr>\n",
       "  </thead>\n",
       "  <tbody>\n",
       "    <tr>\n",
       "      <th>count</th>\n",
       "      <td>3300.000000</td>\n",
       "      <td>3300.000000</td>\n",
       "      <td>3300.000000</td>\n",
       "      <td>3300.000000</td>\n",
       "      <td>3300.000000</td>\n",
       "      <td>3300.000000</td>\n",
       "      <td>3300.0</td>\n",
       "    </tr>\n",
       "    <tr>\n",
       "      <th>mean</th>\n",
       "      <td>1886.000000</td>\n",
       "      <td>6.500000</td>\n",
       "      <td>1886.497992</td>\n",
       "      <td>81.773788</td>\n",
       "      <td>5.637939</td>\n",
       "      <td>117.089697</td>\n",
       "      <td>1.0</td>\n",
       "    </tr>\n",
       "    <tr>\n",
       "      <th>std</th>\n",
       "      <td>79.397168</td>\n",
       "      <td>3.452576</td>\n",
       "      <td>79.397664</td>\n",
       "      <td>67.666430</td>\n",
       "      <td>5.289855</td>\n",
       "      <td>249.490775</td>\n",
       "      <td>0.0</td>\n",
       "    </tr>\n",
       "    <tr>\n",
       "      <th>min</th>\n",
       "      <td>1749.000000</td>\n",
       "      <td>1.000000</td>\n",
       "      <td>1749.042000</td>\n",
       "      <td>0.000000</td>\n",
       "      <td>-1.000000</td>\n",
       "      <td>-1.000000</td>\n",
       "      <td>1.0</td>\n",
       "    </tr>\n",
       "    <tr>\n",
       "      <th>25%</th>\n",
       "      <td>1817.000000</td>\n",
       "      <td>3.750000</td>\n",
       "      <td>1817.769250</td>\n",
       "      <td>24.100000</td>\n",
       "      <td>-1.000000</td>\n",
       "      <td>-1.000000</td>\n",
       "      <td>1.0</td>\n",
       "    </tr>\n",
       "    <tr>\n",
       "      <th>50%</th>\n",
       "      <td>1886.000000</td>\n",
       "      <td>6.500000</td>\n",
       "      <td>1886.496500</td>\n",
       "      <td>67.550000</td>\n",
       "      <td>5.400000</td>\n",
       "      <td>30.000000</td>\n",
       "      <td>1.0</td>\n",
       "    </tr>\n",
       "    <tr>\n",
       "      <th>75%</th>\n",
       "      <td>1955.000000</td>\n",
       "      <td>9.250000</td>\n",
       "      <td>1955.225000</td>\n",
       "      <td>122.400000</td>\n",
       "      <td>9.425000</td>\n",
       "      <td>31.000000</td>\n",
       "      <td>1.0</td>\n",
       "    </tr>\n",
       "    <tr>\n",
       "      <th>max</th>\n",
       "      <td>2023.000000</td>\n",
       "      <td>12.000000</td>\n",
       "      <td>2023.958000</td>\n",
       "      <td>398.200000</td>\n",
       "      <td>29.400000</td>\n",
       "      <td>1587.000000</td>\n",
       "      <td>1.0</td>\n",
       "    </tr>\n",
       "  </tbody>\n",
       "</table>\n",
       "</div>"
      ],
      "text/plain": [
       "              Year        Month  Year_Fraction  SunspotNumber  \\\n",
       "count  3300.000000  3300.000000    3300.000000    3300.000000   \n",
       "mean   1886.000000     6.500000    1886.497992      81.773788   \n",
       "std      79.397168     3.452576      79.397664      67.666430   \n",
       "min    1749.000000     1.000000    1749.042000       0.000000   \n",
       "25%    1817.000000     3.750000    1817.769250      24.100000   \n",
       "50%    1886.000000     6.500000    1886.496500      67.550000   \n",
       "75%    1955.000000     9.250000    1955.225000     122.400000   \n",
       "max    2023.000000    12.000000    2023.958000     398.200000   \n",
       "\n",
       "       SunspotNumber_sd  NumObservations  Definitive?  \n",
       "count       3300.000000      3300.000000       3300.0  \n",
       "mean           5.637939       117.089697          1.0  \n",
       "std            5.289855       249.490775          0.0  \n",
       "min           -1.000000        -1.000000          1.0  \n",
       "25%           -1.000000        -1.000000          1.0  \n",
       "50%            5.400000        30.000000          1.0  \n",
       "75%            9.425000        31.000000          1.0  \n",
       "max           29.400000      1587.000000          1.0  "
      ]
     },
     "execution_count": 4,
     "metadata": {},
     "output_type": "execute_result"
    }
   ],
   "source": [
    "df.describe()"
   ]
  },
  {
   "cell_type": "markdown",
   "id": "d8a446cd-4347-483c-87d9-726cb5df8455",
   "metadata": {
    "tags": []
   },
   "source": [
    "The first and last records:"
   ]
  },
  {
   "cell_type": "code",
   "execution_count": 5,
   "id": "7173ea75-71a1-4fe1-824e-63f5644d78da",
   "metadata": {
    "tags": []
   },
   "outputs": [
    {
     "data": {
      "text/html": [
       "<div>\n",
       "<style scoped>\n",
       "    .dataframe tbody tr th:only-of-type {\n",
       "        vertical-align: middle;\n",
       "    }\n",
       "\n",
       "    .dataframe tbody tr th {\n",
       "        vertical-align: top;\n",
       "    }\n",
       "\n",
       "    .dataframe thead th {\n",
       "        text-align: right;\n",
       "    }\n",
       "</style>\n",
       "<table border=\"1\" class=\"dataframe\">\n",
       "  <thead>\n",
       "    <tr style=\"text-align: right;\">\n",
       "      <th></th>\n",
       "      <th>Year</th>\n",
       "      <th>Month</th>\n",
       "      <th>Year_Fraction</th>\n",
       "      <th>SunspotNumber</th>\n",
       "      <th>SunspotNumber_sd</th>\n",
       "      <th>NumObservations</th>\n",
       "      <th>Definitive?</th>\n",
       "    </tr>\n",
       "  </thead>\n",
       "  <tbody>\n",
       "    <tr>\n",
       "      <th>0</th>\n",
       "      <td>1749</td>\n",
       "      <td>1</td>\n",
       "      <td>1749.042</td>\n",
       "      <td>96.7</td>\n",
       "      <td>-1.0</td>\n",
       "      <td>-1</td>\n",
       "      <td>1</td>\n",
       "    </tr>\n",
       "    <tr>\n",
       "      <th>1</th>\n",
       "      <td>1749</td>\n",
       "      <td>2</td>\n",
       "      <td>1749.123</td>\n",
       "      <td>104.3</td>\n",
       "      <td>-1.0</td>\n",
       "      <td>-1</td>\n",
       "      <td>1</td>\n",
       "    </tr>\n",
       "    <tr>\n",
       "      <th>2</th>\n",
       "      <td>1749</td>\n",
       "      <td>3</td>\n",
       "      <td>1749.204</td>\n",
       "      <td>116.7</td>\n",
       "      <td>-1.0</td>\n",
       "      <td>-1</td>\n",
       "      <td>1</td>\n",
       "    </tr>\n",
       "    <tr>\n",
       "      <th>3</th>\n",
       "      <td>1749</td>\n",
       "      <td>4</td>\n",
       "      <td>1749.288</td>\n",
       "      <td>92.8</td>\n",
       "      <td>-1.0</td>\n",
       "      <td>-1</td>\n",
       "      <td>1</td>\n",
       "    </tr>\n",
       "    <tr>\n",
       "      <th>4</th>\n",
       "      <td>1749</td>\n",
       "      <td>5</td>\n",
       "      <td>1749.371</td>\n",
       "      <td>141.7</td>\n",
       "      <td>-1.0</td>\n",
       "      <td>-1</td>\n",
       "      <td>1</td>\n",
       "    </tr>\n",
       "  </tbody>\n",
       "</table>\n",
       "</div>"
      ],
      "text/plain": [
       "   Year  Month  Year_Fraction  SunspotNumber  SunspotNumber_sd  \\\n",
       "0  1749      1       1749.042           96.7              -1.0   \n",
       "1  1749      2       1749.123          104.3              -1.0   \n",
       "2  1749      3       1749.204          116.7              -1.0   \n",
       "3  1749      4       1749.288           92.8              -1.0   \n",
       "4  1749      5       1749.371          141.7              -1.0   \n",
       "\n",
       "   NumObservations  Definitive?  \n",
       "0               -1            1  \n",
       "1               -1            1  \n",
       "2               -1            1  \n",
       "3               -1            1  \n",
       "4               -1            1  "
      ]
     },
     "execution_count": 5,
     "metadata": {},
     "output_type": "execute_result"
    }
   ],
   "source": [
    "df.head()"
   ]
  },
  {
   "cell_type": "code",
   "execution_count": 6,
   "id": "a524438e-af9c-4a92-8a5d-4812aad68adc",
   "metadata": {
    "tags": []
   },
   "outputs": [
    {
     "data": {
      "text/html": [
       "<div>\n",
       "<style scoped>\n",
       "    .dataframe tbody tr th:only-of-type {\n",
       "        vertical-align: middle;\n",
       "    }\n",
       "\n",
       "    .dataframe tbody tr th {\n",
       "        vertical-align: top;\n",
       "    }\n",
       "\n",
       "    .dataframe thead th {\n",
       "        text-align: right;\n",
       "    }\n",
       "</style>\n",
       "<table border=\"1\" class=\"dataframe\">\n",
       "  <thead>\n",
       "    <tr style=\"text-align: right;\">\n",
       "      <th></th>\n",
       "      <th>Year</th>\n",
       "      <th>Month</th>\n",
       "      <th>Year_Fraction</th>\n",
       "      <th>SunspotNumber</th>\n",
       "      <th>SunspotNumber_sd</th>\n",
       "      <th>NumObservations</th>\n",
       "      <th>Definitive?</th>\n",
       "    </tr>\n",
       "  </thead>\n",
       "  <tbody>\n",
       "    <tr>\n",
       "      <th>3295</th>\n",
       "      <td>2023</td>\n",
       "      <td>8</td>\n",
       "      <td>2023.623</td>\n",
       "      <td>114.8</td>\n",
       "      <td>15.0</td>\n",
       "      <td>1247</td>\n",
       "      <td>1</td>\n",
       "    </tr>\n",
       "    <tr>\n",
       "      <th>3296</th>\n",
       "      <td>2023</td>\n",
       "      <td>9</td>\n",
       "      <td>2023.705</td>\n",
       "      <td>134.2</td>\n",
       "      <td>18.3</td>\n",
       "      <td>1261</td>\n",
       "      <td>1</td>\n",
       "    </tr>\n",
       "    <tr>\n",
       "      <th>3297</th>\n",
       "      <td>2023</td>\n",
       "      <td>10</td>\n",
       "      <td>2023.790</td>\n",
       "      <td>99.9</td>\n",
       "      <td>16.2</td>\n",
       "      <td>1104</td>\n",
       "      <td>1</td>\n",
       "    </tr>\n",
       "    <tr>\n",
       "      <th>3298</th>\n",
       "      <td>2023</td>\n",
       "      <td>11</td>\n",
       "      <td>2023.873</td>\n",
       "      <td>107.1</td>\n",
       "      <td>16.9</td>\n",
       "      <td>928</td>\n",
       "      <td>1</td>\n",
       "    </tr>\n",
       "    <tr>\n",
       "      <th>3299</th>\n",
       "      <td>2023</td>\n",
       "      <td>12</td>\n",
       "      <td>2023.958</td>\n",
       "      <td>113.5</td>\n",
       "      <td>17.7</td>\n",
       "      <td>785</td>\n",
       "      <td>1</td>\n",
       "    </tr>\n",
       "  </tbody>\n",
       "</table>\n",
       "</div>"
      ],
      "text/plain": [
       "      Year  Month  Year_Fraction  SunspotNumber  SunspotNumber_sd  \\\n",
       "3295  2023      8       2023.623          114.8              15.0   \n",
       "3296  2023      9       2023.705          134.2              18.3   \n",
       "3297  2023     10       2023.790           99.9              16.2   \n",
       "3298  2023     11       2023.873          107.1              16.9   \n",
       "3299  2023     12       2023.958          113.5              17.7   \n",
       "\n",
       "      NumObservations  Definitive?  \n",
       "3295             1247            1  \n",
       "3296             1261            1  \n",
       "3297             1104            1  \n",
       "3298              928            1  \n",
       "3299              785            1  "
      ]
     },
     "execution_count": 6,
     "metadata": {},
     "output_type": "execute_result"
    }
   ],
   "source": [
    "df.tail()"
   ]
  },
  {
   "cell_type": "markdown",
   "id": "7120d17c-a4a2-4e47-b5ba-0d217a36f502",
   "metadata": {},
   "source": [
    "Let us plot this time series."
   ]
  },
  {
   "cell_type": "code",
   "execution_count": 7,
   "id": "2a605cbb-b2c4-4104-a4dd-140e123e5b39",
   "metadata": {
    "tags": []
   },
   "outputs": [
    {
     "data": {
      "text/plain": [
       "<Axes: xlabel='Year_Fraction'>"
      ]
     },
     "execution_count": 7,
     "metadata": {},
     "output_type": "execute_result"
    },
    {
     "data": {
      "image/png": "[encoded data removed]",
      "text/plain": [
       "<Figure size 640x480 with 1 Axes>"
      ]
     },
     "metadata": {},
     "output_type": "display_data"
    }
   ],
   "source": [
    "df.plot(x='Year_Fraction', y='SunspotNumber')"
   ]
  },
  {
   "cell_type": "markdown",
   "id": "02e9a066-6116-42b3-bf9c-e2e283b6a784",
   "metadata": {
    "tags": []
   },
   "source": [
    "Modeling this time series is an interesting exercise in itself. There is obviously a frequential aspect (a 11-years cycle, a 22-years cycle with some variation). Here is an example of a [time series decomposition in R](https://rpubs.com/danielkurnia/timeseries_sunspots)."
   ]
  },
  {
   "cell_type": "markdown",
   "id": "9dd54b55-0a0b-4697-bd05-0472576109f9",
   "metadata": {},
   "source": [
    "All we attempt here is a rough estimation of the length of a cycle, without any pretension to scientific rigour.\n",
    "\n",
    "From the plot, we see that all minima have a count below 20. We thus isolate the points near the minima:"
   ]
  },
  {
   "cell_type": "code",
   "execution_count": 8,
   "id": "59bfce2a-108c-441a-b92b-ed9913e49d2b",
   "metadata": {},
   "outputs": [
    {
     "data": {
      "text/html": [
       "<div>\n",
       "<style scoped>\n",
       "    .dataframe tbody tr th:only-of-type {\n",
       "        vertical-align: middle;\n",
       "    }\n",
       "\n",
       "    .dataframe tbody tr th {\n",
       "        vertical-align: top;\n",
       "    }\n",
       "\n",
       "    .dataframe thead th {\n",
       "        text-align: right;\n",
       "    }\n",
       "</style>\n",
       "<table border=\"1\" class=\"dataframe\">\n",
       "  <thead>\n",
       "    <tr style=\"text-align: right;\">\n",
       "      <th></th>\n",
       "      <th>Year</th>\n",
       "      <th>Month</th>\n",
       "      <th>Year_Fraction</th>\n",
       "      <th>SunspotNumber</th>\n",
       "      <th>SunspotNumber_sd</th>\n",
       "      <th>NumObservations</th>\n",
       "      <th>Definitive?</th>\n",
       "    </tr>\n",
       "  </thead>\n",
       "  <tbody>\n",
       "    <tr>\n",
       "      <th>59</th>\n",
       "      <td>1753</td>\n",
       "      <td>12</td>\n",
       "      <td>1753.958</td>\n",
       "      <td>11.2</td>\n",
       "      <td>-1.0</td>\n",
       "      <td>-1</td>\n",
       "      <td>1</td>\n",
       "    </tr>\n",
       "    <tr>\n",
       "      <th>60</th>\n",
       "      <td>1754</td>\n",
       "      <td>1</td>\n",
       "      <td>1754.042</td>\n",
       "      <td>0.0</td>\n",
       "      <td>-1.0</td>\n",
       "      <td>-1</td>\n",
       "      <td>1</td>\n",
       "    </tr>\n",
       "    <tr>\n",
       "      <th>61</th>\n",
       "      <td>1754</td>\n",
       "      <td>2</td>\n",
       "      <td>1754.123</td>\n",
       "      <td>5.0</td>\n",
       "      <td>-1.0</td>\n",
       "      <td>-1</td>\n",
       "      <td>1</td>\n",
       "    </tr>\n",
       "    <tr>\n",
       "      <th>62</th>\n",
       "      <td>1754</td>\n",
       "      <td>3</td>\n",
       "      <td>1754.204</td>\n",
       "      <td>2.8</td>\n",
       "      <td>-1.0</td>\n",
       "      <td>-1</td>\n",
       "      <td>1</td>\n",
       "    </tr>\n",
       "    <tr>\n",
       "      <th>68</th>\n",
       "      <td>1754</td>\n",
       "      <td>9</td>\n",
       "      <td>1754.707</td>\n",
       "      <td>13.7</td>\n",
       "      <td>-1.0</td>\n",
       "      <td>-1</td>\n",
       "      <td>1</td>\n",
       "    </tr>\n",
       "    <tr>\n",
       "      <th>...</th>\n",
       "      <td>...</td>\n",
       "      <td>...</td>\n",
       "      <td>...</td>\n",
       "      <td>...</td>\n",
       "      <td>...</td>\n",
       "      <td>...</td>\n",
       "      <td>...</td>\n",
       "    </tr>\n",
       "    <tr>\n",
       "      <th>3260</th>\n",
       "      <td>2020</td>\n",
       "      <td>9</td>\n",
       "      <td>2020.706</td>\n",
       "      <td>0.6</td>\n",
       "      <td>2.2</td>\n",
       "      <td>1244</td>\n",
       "      <td>1</td>\n",
       "    </tr>\n",
       "    <tr>\n",
       "      <th>3261</th>\n",
       "      <td>2020</td>\n",
       "      <td>10</td>\n",
       "      <td>2020.791</td>\n",
       "      <td>14.6</td>\n",
       "      <td>7.4</td>\n",
       "      <td>1215</td>\n",
       "      <td>1</td>\n",
       "    </tr>\n",
       "    <tr>\n",
       "      <th>3264</th>\n",
       "      <td>2021</td>\n",
       "      <td>1</td>\n",
       "      <td>2021.042</td>\n",
       "      <td>10.4</td>\n",
       "      <td>5.9</td>\n",
       "      <td>1036</td>\n",
       "      <td>1</td>\n",
       "    </tr>\n",
       "    <tr>\n",
       "      <th>3265</th>\n",
       "      <td>2021</td>\n",
       "      <td>2</td>\n",
       "      <td>2021.122</td>\n",
       "      <td>8.2</td>\n",
       "      <td>4.3</td>\n",
       "      <td>1122</td>\n",
       "      <td>1</td>\n",
       "    </tr>\n",
       "    <tr>\n",
       "      <th>3266</th>\n",
       "      <td>2021</td>\n",
       "      <td>3</td>\n",
       "      <td>2021.204</td>\n",
       "      <td>17.2</td>\n",
       "      <td>6.2</td>\n",
       "      <td>1322</td>\n",
       "      <td>1</td>\n",
       "    </tr>\n",
       "  </tbody>\n",
       "</table>\n",
       "<p>706 rows × 7 columns</p>\n",
       "</div>"
      ],
      "text/plain": [
       "      Year  Month  Year_Fraction  SunspotNumber  SunspotNumber_sd  \\\n",
       "59    1753     12       1753.958           11.2              -1.0   \n",
       "60    1754      1       1754.042            0.0              -1.0   \n",
       "61    1754      2       1754.123            5.0              -1.0   \n",
       "62    1754      3       1754.204            2.8              -1.0   \n",
       "68    1754      9       1754.707           13.7              -1.0   \n",
       "...    ...    ...            ...            ...               ...   \n",
       "3260  2020      9       2020.706            0.6               2.2   \n",
       "3261  2020     10       2020.791           14.6               7.4   \n",
       "3264  2021      1       2021.042           10.4               5.9   \n",
       "3265  2021      2       2021.122            8.2               4.3   \n",
       "3266  2021      3       2021.204           17.2               6.2   \n",
       "\n",
       "      NumObservations  Definitive?  \n",
       "59                 -1            1  \n",
       "60                 -1            1  \n",
       "61                 -1            1  \n",
       "62                 -1            1  \n",
       "68                 -1            1  \n",
       "...               ...          ...  \n",
       "3260             1244            1  \n",
       "3261             1215            1  \n",
       "3264             1036            1  \n",
       "3265             1122            1  \n",
       "3266             1322            1  \n",
       "\n",
       "[706 rows x 7 columns]"
      ]
     },
     "execution_count": 8,
     "metadata": {},
     "output_type": "execute_result"
    }
   ],
   "source": [
    "minima = df[df[\"SunspotNumber\"] < 20].copy()\n",
    "minima"
   ]
  },
  {
   "cell_type": "markdown",
   "id": "6c093348-234b-4c85-8005-76b53b7f7e7a",
   "metadata": {},
   "source": [
    "A quick plot shows that this selection is reasonable, because it still shows cycles with the same frequency:"
   ]
  },
  {
   "cell_type": "code",
   "execution_count": 9,
   "id": "659cdb52-a319-4829-bf86-9bb2f4706395",
   "metadata": {},
   "outputs": [
    {
     "data": {
      "text/plain": [
       "<Axes: xlabel='Year_Fraction'>"
      ]
     },
     "execution_count": 9,
     "metadata": {},
     "output_type": "execute_result"
    },
    {
     "data": {
      "image/png": "[encoded data removed]",
      "text/plain": [
       "<Figure size 640x480 with 1 Axes>"
      ]
     },
     "metadata": {},
     "output_type": "display_data"
    }
   ],
   "source": [
    "minima.plot(x='Year_Fraction', y='SunspotNumber')"
   ]
  },
  {
   "cell_type": "markdown",
   "id": "5364109f-55a9-4856-8122-bd7f267b9e88",
   "metadata": {},
   "source": [
    "Next, we assign a number to each minimum. We consider that a series of points starts a new minimum if it is more than five years later than the previous point - the number of five being a visual estimate from the plot."
   ]
  },
  {
   "cell_type": "code",
   "execution_count": 10,
   "id": "9635132c-89d2-45e1-8915-ca6a418ed29e",
   "metadata": {},
   "outputs": [
    {
     "data": {
      "text/html": [
       "<div>\n",
       "<style scoped>\n",
       "    .dataframe tbody tr th:only-of-type {\n",
       "        vertical-align: middle;\n",
       "    }\n",
       "\n",
       "    .dataframe tbody tr th {\n",
       "        vertical-align: top;\n",
       "    }\n",
       "\n",
       "    .dataframe thead th {\n",
       "        text-align: right;\n",
       "    }\n",
       "</style>\n",
       "<table border=\"1\" class=\"dataframe\">\n",
       "  <thead>\n",
       "    <tr style=\"text-align: right;\">\n",
       "      <th></th>\n",
       "      <th>Year</th>\n",
       "      <th>Month</th>\n",
       "      <th>Year_Fraction</th>\n",
       "      <th>SunspotNumber</th>\n",
       "      <th>SunspotNumber_sd</th>\n",
       "      <th>NumObservations</th>\n",
       "      <th>Definitive?</th>\n",
       "      <th>number</th>\n",
       "    </tr>\n",
       "  </thead>\n",
       "  <tbody>\n",
       "    <tr>\n",
       "      <th>59</th>\n",
       "      <td>1753</td>\n",
       "      <td>12</td>\n",
       "      <td>1753.958</td>\n",
       "      <td>11.2</td>\n",
       "      <td>-1.0</td>\n",
       "      <td>-1</td>\n",
       "      <td>1</td>\n",
       "      <td>0</td>\n",
       "    </tr>\n",
       "    <tr>\n",
       "      <th>60</th>\n",
       "      <td>1754</td>\n",
       "      <td>1</td>\n",
       "      <td>1754.042</td>\n",
       "      <td>0.0</td>\n",
       "      <td>-1.0</td>\n",
       "      <td>-1</td>\n",
       "      <td>1</td>\n",
       "      <td>0</td>\n",
       "    </tr>\n",
       "    <tr>\n",
       "      <th>61</th>\n",
       "      <td>1754</td>\n",
       "      <td>2</td>\n",
       "      <td>1754.123</td>\n",
       "      <td>5.0</td>\n",
       "      <td>-1.0</td>\n",
       "      <td>-1</td>\n",
       "      <td>1</td>\n",
       "      <td>0</td>\n",
       "    </tr>\n",
       "    <tr>\n",
       "      <th>62</th>\n",
       "      <td>1754</td>\n",
       "      <td>3</td>\n",
       "      <td>1754.204</td>\n",
       "      <td>2.8</td>\n",
       "      <td>-1.0</td>\n",
       "      <td>-1</td>\n",
       "      <td>1</td>\n",
       "      <td>0</td>\n",
       "    </tr>\n",
       "    <tr>\n",
       "      <th>68</th>\n",
       "      <td>1754</td>\n",
       "      <td>9</td>\n",
       "      <td>1754.707</td>\n",
       "      <td>13.7</td>\n",
       "      <td>-1.0</td>\n",
       "      <td>-1</td>\n",
       "      <td>1</td>\n",
       "      <td>0</td>\n",
       "    </tr>\n",
       "    <tr>\n",
       "      <th>...</th>\n",
       "      <td>...</td>\n",
       "      <td>...</td>\n",
       "      <td>...</td>\n",
       "      <td>...</td>\n",
       "      <td>...</td>\n",
       "      <td>...</td>\n",
       "      <td>...</td>\n",
       "      <td>...</td>\n",
       "    </tr>\n",
       "    <tr>\n",
       "      <th>3260</th>\n",
       "      <td>2020</td>\n",
       "      <td>9</td>\n",
       "      <td>2020.706</td>\n",
       "      <td>0.6</td>\n",
       "      <td>2.2</td>\n",
       "      <td>1244</td>\n",
       "      <td>1</td>\n",
       "      <td>23</td>\n",
       "    </tr>\n",
       "    <tr>\n",
       "      <th>3261</th>\n",
       "      <td>2020</td>\n",
       "      <td>10</td>\n",
       "      <td>2020.791</td>\n",
       "      <td>14.6</td>\n",
       "      <td>7.4</td>\n",
       "      <td>1215</td>\n",
       "      <td>1</td>\n",
       "      <td>23</td>\n",
       "    </tr>\n",
       "    <tr>\n",
       "      <th>3264</th>\n",
       "      <td>2021</td>\n",
       "      <td>1</td>\n",
       "      <td>2021.042</td>\n",
       "      <td>10.4</td>\n",
       "      <td>5.9</td>\n",
       "      <td>1036</td>\n",
       "      <td>1</td>\n",
       "      <td>23</td>\n",
       "    </tr>\n",
       "    <tr>\n",
       "      <th>3265</th>\n",
       "      <td>2021</td>\n",
       "      <td>2</td>\n",
       "      <td>2021.122</td>\n",
       "      <td>8.2</td>\n",
       "      <td>4.3</td>\n",
       "      <td>1122</td>\n",
       "      <td>1</td>\n",
       "      <td>23</td>\n",
       "    </tr>\n",
       "    <tr>\n",
       "      <th>3266</th>\n",
       "      <td>2021</td>\n",
       "      <td>3</td>\n",
       "      <td>2021.204</td>\n",
       "      <td>17.2</td>\n",
       "      <td>6.2</td>\n",
       "      <td>1322</td>\n",
       "      <td>1</td>\n",
       "      <td>23</td>\n",
       "    </tr>\n",
       "  </tbody>\n",
       "</table>\n",
       "<p>706 rows × 8 columns</p>\n",
       "</div>"
      ],
      "text/plain": [
       "      Year  Month  Year_Fraction  SunspotNumber  SunspotNumber_sd  \\\n",
       "59    1753     12       1753.958           11.2              -1.0   \n",
       "60    1754      1       1754.042            0.0              -1.0   \n",
       "61    1754      2       1754.123            5.0              -1.0   \n",
       "62    1754      3       1754.204            2.8              -1.0   \n",
       "68    1754      9       1754.707           13.7              -1.0   \n",
       "...    ...    ...            ...            ...               ...   \n",
       "3260  2020      9       2020.706            0.6               2.2   \n",
       "3261  2020     10       2020.791           14.6               7.4   \n",
       "3264  2021      1       2021.042           10.4               5.9   \n",
       "3265  2021      2       2021.122            8.2               4.3   \n",
       "3266  2021      3       2021.204           17.2               6.2   \n",
       "\n",
       "      NumObservations  Definitive?  number  \n",
       "59                 -1            1       0  \n",
       "60                 -1            1       0  \n",
       "61                 -1            1       0  \n",
       "62                 -1            1       0  \n",
       "68                 -1            1       0  \n",
       "...               ...          ...     ...  \n",
       "3260             1244            1      23  \n",
       "3261             1215            1      23  \n",
       "3264             1036            1      23  \n",
       "3265             1122            1      23  \n",
       "3266             1322            1      23  \n",
       "\n",
       "[706 rows x 8 columns]"
      ]
     },
     "execution_count": 10,
     "metadata": {},
     "output_type": "execute_result"
    }
   ],
   "source": [
    "minima[\"number\"] = minima[\"Year_Fraction\"].diff().gt(5).cumsum()\n",
    "minima"
   ]
  },
  {
   "cell_type": "markdown",
   "id": "2a6460ec-102d-4c3b-a773-6c2f1d9fb8cb",
   "metadata": {},
   "source": [
    "We thus find 24 minima. Let's compute the mean Year_Fraction for each of them:"
   ]
  },
  {
   "cell_type": "code",
   "execution_count": 11,
   "id": "1cc71d1b-4846-4d2d-8676-67fbff8c200d",
   "metadata": {},
   "outputs": [
    {
     "data": {
      "text/plain": [
       "number\n",
       "0     1755.452727\n",
       "1     1766.549750\n",
       "2     1775.576063\n",
       "3     1784.516357\n",
       "4     1798.471791\n",
       "5     1815.698811\n",
       "6     1833.861000\n",
       "7     1843.860077\n",
       "8     1856.213783\n",
       "9     1867.235857\n",
       "10    1878.022026\n",
       "11    1889.126976\n",
       "12    1901.129250\n",
       "13    1912.692191\n",
       "14    1923.306320\n",
       "15    1933.511900\n",
       "16    1944.014308\n",
       "17    1954.253476\n",
       "18    1964.859083\n",
       "19    1976.072667\n",
       "20    1986.289750\n",
       "21    1996.427600\n",
       "22    2008.511857\n",
       "23    2019.190933\n",
       "Name: Year_Fraction, dtype: float64"
      ]
     },
     "execution_count": 11,
     "metadata": {},
     "output_type": "execute_result"
    }
   ],
   "source": [
    "grouped = minima.groupby(\"number\")\n",
    "grouped_mean = grouped.mean()\n",
    "grouped_mean[\"Year_Fraction\"]"
   ]
  },
  {
   "cell_type": "markdown",
   "id": "b65497b3-036e-4775-9829-48dfed0a8b5d",
   "metadata": {},
   "source": [
    "The differences between successive points give the period of the sunspot number:"
   ]
  },
  {
   "cell_type": "code",
   "execution_count": 12,
   "id": "95925f45-f1a8-4b41-ae71-c12a7f966b83",
   "metadata": {},
   "outputs": [
    {
     "data": {
      "text/plain": [
       "number\n",
       "0           NaN\n",
       "1     11.097023\n",
       "2      9.026312\n",
       "3      8.940295\n",
       "4     13.955434\n",
       "5     17.227021\n",
       "6     18.162189\n",
       "7      9.999077\n",
       "8     12.353706\n",
       "9     11.022075\n",
       "10    10.786169\n",
       "11    11.104950\n",
       "12    12.002274\n",
       "13    11.562941\n",
       "14    10.614129\n",
       "15    10.205580\n",
       "16    10.502408\n",
       "17    10.239168\n",
       "18    10.605607\n",
       "19    11.213583\n",
       "20    10.217083\n",
       "21    10.137850\n",
       "22    12.084257\n",
       "23    10.679076\n",
       "Name: Year_Fraction, dtype: float64"
      ]
     },
     "execution_count": 12,
     "metadata": {},
     "output_type": "execute_result"
    }
   ],
   "source": [
    "grouped_mean[\"Year_Fraction\"].diff()"
   ]
  },
  {
   "cell_type": "markdown",
   "id": "0224d664-9a70-4e65-9c72-2cfc864fa205",
   "metadata": {},
   "source": [
    "There are large variations, especially among the early data which is probably the least reliable. Let's take the average over the last ten periods:"
   ]
  },
  {
   "cell_type": "code",
   "execution_count": 13,
   "id": "73491c9c-4845-45b8-bc84-ee4c3813539a",
   "metadata": {},
   "outputs": [
    {
     "data": {
      "text/plain": [
       "10.653845925925932"
      ]
     },
     "execution_count": 13,
     "metadata": {},
     "output_type": "execute_result"
    }
   ],
   "source": [
    "grouped_mean.tail(10)['Year_Fraction'].diff().mean()"
   ]
  },
  {
   "cell_type": "code",
   "execution_count": 14,
   "id": "98d8c740-4934-4a05-a1d5-bf79febd65ae",
   "metadata": {},
   "outputs": [
    {
     "data": {
      "text/plain": [
       "Year                1778.000\n",
       "Month                  5.000\n",
       "Year_Fraction       1778.371\n",
       "SunspotNumber        398.200\n",
       "SunspotNumber_sd      -1.000\n",
       "NumObservations       -1.000\n",
       "Definitive?            1.000\n",
       "Name: 352, dtype: float64"
      ]
     },
     "execution_count": 14,
     "metadata": {},
     "output_type": "execute_result"
    }
   ],
   "source": [
    "df.iloc[df[\"SunspotNumber\"].argmax()]"
   ]
  },
  {
   "cell_type": "markdown",
   "id": "d542e969-7aa7-4e4a-b5cd-106c20c676e4",
   "metadata": {},
   "source": [
    "Get the year/month in which we observe the highest number of sunspots"
   ]
  },
  {
   "cell_type": "code",
   "execution_count": 15,
   "id": "f01ffdf2-8f74-4276-8f41-ec6146fbecbe",
   "metadata": {},
   "outputs": [
    {
     "data": {
      "text/html": [
       "<div>\n",
       "<style scoped>\n",
       "    .dataframe tbody tr th:only-of-type {\n",
       "        vertical-align: middle;\n",
       "    }\n",
       "\n",
       "    .dataframe tbody tr th {\n",
       "        vertical-align: top;\n",
       "    }\n",
       "\n",
       "    .dataframe thead th {\n",
       "        text-align: right;\n",
       "    }\n",
       "</style>\n",
       "<table border=\"1\" class=\"dataframe\">\n",
       "  <thead>\n",
       "    <tr style=\"text-align: right;\">\n",
       "      <th></th>\n",
       "      <th>Year</th>\n",
       "      <th>Month</th>\n",
       "      <th>Year_Fraction</th>\n",
       "      <th>SunspotNumber</th>\n",
       "      <th>SunspotNumber_sd</th>\n",
       "      <th>NumObservations</th>\n",
       "      <th>Definitive?</th>\n",
       "    </tr>\n",
       "  </thead>\n",
       "  <tbody>\n",
       "    <tr>\n",
       "      <th>352</th>\n",
       "      <td>1778</td>\n",
       "      <td>5</td>\n",
       "      <td>1778.371</td>\n",
       "      <td>398.2</td>\n",
       "      <td>-1.0</td>\n",
       "      <td>-1</td>\n",
       "      <td>1</td>\n",
       "    </tr>\n",
       "  </tbody>\n",
       "</table>\n",
       "</div>"
      ],
      "text/plain": [
       "     Year  Month  Year_Fraction  SunspotNumber  SunspotNumber_sd  \\\n",
       "352  1778      5       1778.371          398.2              -1.0   \n",
       "\n",
       "     NumObservations  Definitive?  \n",
       "352               -1            1  "
      ]
     },
     "execution_count": 15,
     "metadata": {},
     "output_type": "execute_result"
    }
   ],
   "source": [
    "df[df[\"SunspotNumber\"]==df[\"SunspotNumber\"].max()]"
   ]
  },
  {
   "cell_type": "code",
   "execution_count": null,
   "id": "08823482-372d-4150-bc66-d99a48734ea8",
   "metadata": {},
   "outputs": [],
   "source": []
  }
 ],
 "metadata": {
  "kernelspec": {
   "display_name": "Python 3 (ipykernel)",
   "language": "python",
   "name": "python3"
  },
  "language_info": {
   "codemirror_mode": {
    "name": "ipython",
    "version": 3
   },
   "file_extension": ".py",
   "mimetype": "text/x-python",
   "name": "python",
   "nbconvert_exporter": "python",
   "pygments_lexer": "ipython3",
   "version": "3.11.4"
  }
 },
 "nbformat": 4,
 "nbformat_minor": 5
}
